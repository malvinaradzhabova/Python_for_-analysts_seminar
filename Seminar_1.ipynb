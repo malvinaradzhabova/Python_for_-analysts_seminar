{
 "cells": [
  {
   "cell_type": "markdown",
   "id": "1f3bf6b4",
   "metadata": {},
   "source": [
    "## Задание 1\n",
    "\n",
    "1.1 Соедините два словаря в один\n",
    "\n",
    "dict1 = {'One': 1, 'Two': 2, 'Three': 3}\n",
    "\n",
    "dict2 = {'Four': 4, 'Five': 5, 'Six': 6}\n",
    "\n",
    "1.2 Напишите функцию, которая на вход принимает два словаря и возвращает один объединенный словарь.\n",
    "Используйте аннотирование типов\n"
   ]
  },
  {
   "cell_type": "code",
   "execution_count": 1,
   "id": "a1b3a488",
   "metadata": {},
   "outputs": [],
   "source": [
    "dict1 = {'One': 1, 'Two': 2, 'Three': 3}\n",
    "dict2 = {'Four': 4, 'Five': 5, 'Six': 6}"
   ]
  },
  {
   "cell_type": "code",
   "execution_count": 2,
   "id": "b685a85c",
   "metadata": {},
   "outputs": [
    {
     "data": {
      "text/plain": [
       "{'One': 1, 'Two': 2, 'Three': 3, 'Four': 4, 'Five': 5, 'Six': 6}"
      ]
     },
     "execution_count": 2,
     "metadata": {},
     "output_type": "execute_result"
    }
   ],
   "source": [
    "def merge_dicts(dict1, dict2):\n",
    "    dict1.update(dict2)\n",
    "    return dict1\n",
    "\n",
    "merge_dicts(dict1, dict2)"
   ]
  },
  {
   "cell_type": "markdown",
   "id": "35226413",
   "metadata": {},
   "source": [
    "## Задание 2"
   ]
  },
  {
   "cell_type": "markdown",
   "id": "d62199a7",
   "metadata": {},
   "source": [
    "Напишите, которая из двух списков, делает один словарь, \n",
    "где элементы из первого списка - ключи, а элементы из второго списка - значения\n",
    "\n",
    "keys = ['One', 'Two', 'Three']\n",
    "\n",
    "values = [1, 2, 3]\n",
    "\n",
    "Используйте аннотирование типов\n"
   ]
  },
  {
   "cell_type": "code",
   "execution_count": 10,
   "id": "a69f8e7e",
   "metadata": {},
   "outputs": [],
   "source": [
    "keys = ['One', 'Two', 'Three']\n",
    "values = [1, 2, 3]"
   ]
  },
  {
   "cell_type": "markdown",
   "id": "f83cd2df",
   "metadata": {},
   "source": [
    "### 2.1 Используя цикл for"
   ]
  },
  {
   "cell_type": "code",
   "execution_count": 13,
   "id": "00bb8eb8",
   "metadata": {},
   "outputs": [
    {
     "data": {
      "text/plain": [
       "{'One': 1, 'Two': 2, 'Three': 3}"
      ]
     },
     "execution_count": 13,
     "metadata": {},
     "output_type": "execute_result"
    }
   ],
   "source": [
    "def get_dict(keys, values):\n",
    "    res_dict = {}\n",
    "    for i in range (len(keys)):\n",
    "        res_dict.update({keys[i]: values[i]})\n",
    "    return res_dict\n",
    "\n",
    "get_dict(keys, values)"
   ]
  },
  {
   "cell_type": "markdown",
   "id": "512cd4b4",
   "metadata": {},
   "source": [
    "### 2.2 Используя dict comprehensions"
   ]
  },
  {
   "cell_type": "code",
   "execution_count": 14,
   "id": "efcb2aa6",
   "metadata": {},
   "outputs": [
    {
     "data": {
      "text/plain": [
       "{'One': 1, 'Two': 2, 'Three': 3}"
      ]
     },
     "execution_count": 14,
     "metadata": {},
     "output_type": "execute_result"
    }
   ],
   "source": [
    "def get_dict(keys, values):\n",
    "    return{keys[i]: values[i]  for i in range (len(keys))}\n",
    "\n",
    "get_dict(keys, values)"
   ]
  },
  {
   "cell_type": "markdown",
   "id": "61bedd8d",
   "metadata": {},
   "source": [
    "## Задание 3"
   ]
  },
  {
   "cell_type": "markdown",
   "id": "c7daf54b",
   "metadata": {},
   "source": [
    "Извлеките только два ключа name и age из представленного словаря\n",
    "client_dict = {\n",
    "\"name\": \"John\",\n",
    "\"age\": 25,\n",
    "\"salary\": 5000,\n",
    "\"city\": \"Moscow\"\n",
    "}"
   ]
  },
  {
   "cell_type": "markdown",
   "id": "5925e8ab",
   "metadata": {},
   "source": [
    "### 3.1 Напишите функцию с циклом for\n",
    "Функция на вход принимает:\n",
    "- исходный словарь\n",
    "- ключи, которые нужно извлечь (аргумент по умолчанию)\n",
    "\n",
    "На выходе словарь с нужными ключами\n",
    "\n",
    "Используйте аннотирование типов\n"
   ]
  },
  {
   "cell_type": "code",
   "execution_count": 16,
   "id": "2c738ab0",
   "metadata": {},
   "outputs": [],
   "source": [
    "client_dict = {\n",
    "\"name\": \"John\",\n",
    "\"age\": 25,\n",
    "\"salary\": 5000,\n",
    "\"city\": \"Moscow\"\n",
    "}"
   ]
  },
  {
   "cell_type": "code",
   "execution_count": 17,
   "id": "5914f2b1",
   "metadata": {},
   "outputs": [],
   "source": [
    "keys = ['name', 'age']"
   ]
  },
  {
   "cell_type": "code",
   "execution_count": 21,
   "id": "8212067a",
   "metadata": {},
   "outputs": [
    {
     "data": {
      "text/plain": [
       "{'name': 'John', 'age': 25}"
      ]
     },
     "execution_count": 21,
     "metadata": {},
     "output_type": "execute_result"
    }
   ],
   "source": [
    "def get_keys(base_dict, keys: list = ['name', 'age']):\n",
    "    res_dict = {}\n",
    "    for i in keys:\n",
    "        res_dict.update({i: base_dict[i]})\n",
    "    return res_dict\n",
    "\n",
    "get_keys(client_dict)"
   ]
  },
  {
   "cell_type": "markdown",
   "id": "b196683c",
   "metadata": {},
   "source": [
    "### 3.2 Используя dict comprehensions"
   ]
  },
  {
   "cell_type": "code",
   "execution_count": 22,
   "id": "a9915513",
   "metadata": {},
   "outputs": [
    {
     "data": {
      "text/plain": [
       "{'name': 'John', 'age': 25}"
      ]
     },
     "execution_count": 22,
     "metadata": {},
     "output_type": "execute_result"
    }
   ],
   "source": [
    "new_dict = {i: client_dict[i] for i in keys}\n",
    "new_dict"
   ]
  },
  {
   "cell_type": "markdown",
   "id": "ddf4eadf",
   "metadata": {},
   "source": [
    "## Задание 5"
   ]
  },
  {
   "cell_type": "markdown",
   "id": "0a6e2534",
   "metadata": {},
   "source": [
    "### 5.1 Найдите картинку в интернете и прикрепите её в ячейку с текстом\n"
   ]
  },
  {
   "cell_type": "markdown",
   "id": "ca5a837e",
   "metadata": {},
   "source": [
    "<img src = 'https://cdn.playcaliber.com/site/media/news/2021/06/01/4-%D0%A2%D0%B0%D0%B1%D0%BB%D0%B8%D1%86%D0%B0-%D0%BC%D0%B0%D0%BB%D0%B5%D0%BD%D1%8C%D0%BA%D0%B0%D1%8F-%D0%BF%D0%BE-%D1%80%D0%B5%D0%B6%D0%B8%D0%BC%D0%B0%D0%BC-1280%D1%85853.jpg'>"
   ]
  },
  {
   "cell_type": "markdown",
   "id": "035c2278",
   "metadata": {},
   "source": [
    "<img src = 'https://cdn.playcaliber.com/site/media/news/2021/06/01/4-%D0%A2%D0%B0%D0%B1%D0%BB%D0%B8%D1%86%D0%B0-%D0%BC%D0%B0%D0%BB%D0%B5%D0%BD%D1%8C%D0%BA%D0%B0%D1%8F-%D0%BF%D0%BE-%D1%80%D0%B5%D0%B6%D0%B8%D0%BC%D0%B0%D0%BC-1280%D1%85853.jpg'>"
   ]
  },
  {
   "cell_type": "markdown",
   "id": "0e2dad79",
   "metadata": {},
   "source": [
    "### 5.2 Создайте следующую таблицу в ячейке с текстом"
   ]
  },
  {
   "cell_type": "markdown",
   "id": "42842030",
   "metadata": {},
   "source": [
    "<table>\n",
    "<tr>\n",
    "<td> </td>\n",
    "<td>До события</td>\n",
    "<td>Во время события</td>\n",
    "</tr>\n",
    "<tr>\n",
    "<td>1 контрольная точка</td>\n",
    "<td>250</td>\n",
    "<td>500</td>\n",
    "</tr>\n",
    "<tr>\n",
    "<td>2 контрольная точка</td>\n",
    "<td>350</td>\n",
    "<td>700</td>\n",
    "</tr>\n",
    "<tr>\n",
    "<td>3 контрольная точка</td>\n",
    "<td>400</td>\n",
    "<td>800</td>\n",
    "</tr>\n",
    "<tr>\n",
    "<td>Итог за победу</td>\n",
    "<td>1000</td>\n",
    "<td>2000</td>\n",
    "</tr>\n",
    "</table>"
   ]
  },
  {
   "cell_type": "markdown",
   "id": "009d404c",
   "metadata": {},
   "source": [
    "## Задание 6\n",
    "Напишите функцию, которая может принимать любое количество трат пользователя и считать сумму и среднее.\n",
    "- На вход поступают целочисленные значения в любом количестве\n",
    "- На выходе словарь с ключами суммы трат и средней траты\n"
   ]
  },
  {
   "cell_type": "code",
   "execution_count": 26,
   "id": "73568b23",
   "metadata": {},
   "outputs": [
    {
     "data": {
      "text/plain": [
       "{'sum': 55, 'mean': 5.5}"
      ]
     },
     "execution_count": 26,
     "metadata": {},
     "output_type": "execute_result"
    }
   ],
   "source": [
    "def calc_purchacses(*args):\n",
    "    sum_purch = sum(args)\n",
    "    n_purch = len(args)\n",
    "    return {\n",
    "        'sum': sum_purch,\n",
    "        'mean': sum_purch / n_purch\n",
    "    }\n",
    "\n",
    "calc_purchacses(1, 2, 3, 4, 5, 6, 7, 8, 9, 10)"
   ]
  },
  {
   "cell_type": "markdown",
   "id": "919b8a59",
   "metadata": {},
   "source": [
    "## Задание 4"
   ]
  },
  {
   "cell_type": "markdown",
   "id": "7387ea69",
   "metadata": {},
   "source": [
    "## 4.1 Сгенерируйте случайные целые числа от 0 до 100 в количестве 5 штук с помощью модуля random\n",
    "- Зафиксируйте псевдогенерацию, чтобы сгенерированные значения всегда были одинаковые\n",
    "- Используйте list comprehensions\n",
    "\n"
   ]
  },
  {
   "cell_type": "code",
   "execution_count": 31,
   "id": "efa22b60",
   "metadata": {},
   "outputs": [
    {
     "data": {
      "text/plain": [
       "[30, 75, 69, 16, 47]"
      ]
     },
     "execution_count": 31,
     "metadata": {},
     "output_type": "execute_result"
    }
   ],
   "source": [
    "import random\n",
    "random.seed(3)\n",
    "\n",
    "numbers = [random.randint(0, 100) for i in range (5)]\n",
    "numbers"
   ]
  },
  {
   "cell_type": "markdown",
   "id": "563014e0",
   "metadata": {},
   "source": [
    "## 4.2 Напишите генератор\n",
    "- Генератор на вход принимает список с данными о клиенте (данные из пункта 4.1)\n",
    "- Внутри генератора реализуйте обход по списку с данными\n",
    "На каждой итерации генератор будет возвращать кортеж из двух элементов:\n",
    "1. данные по клиенту (в зависимости от итерации, на 0 итерации вернется 0 элемент, на 1 итерации вернется 1 элемент и тд)\n",
    "2. целочисленное значение, которое показывает, сколько секунд прошло с предыдущей итерации\n",
    "Примечание: секунды, которые возвращаются должны показывать время не с начала запуска генератора, а именно то время, которое прошло с предыдущей итерации. А значит время на первой итерации должно равняться 0.\n",
    "- Используйте функцию time из модуля time для подсчета времени.\n",
    "- Чтобы проверить работу таймера, запустите проход по генератору в цикле с time.sleep(2)\n"
   ]
  },
  {
   "cell_type": "code",
   "execution_count": 33,
   "id": "ebedd8c7",
   "metadata": {},
   "outputs": [],
   "source": [
    "import time\n",
    "\n",
    "def func_generator(numbers):\n",
    "    last_time = None\n",
    "\n",
    "    for i in numbers:\n",
    "        current_time = time.time()\n",
    "\n",
    "        if last_time:\n",
    "            delta = current_time - last_time\n",
    "        else:\n",
    "            delta = current_time - current_time\n",
    "        last_time = time.time()\n",
    "        yield (int(delta), i)"
   ]
  },
  {
   "cell_type": "code",
   "execution_count": 34,
   "id": "b182db23",
   "metadata": {},
   "outputs": [
    {
     "name": "stdout",
     "output_type": "stream",
     "text": [
      "(0, 30)\n",
      "(2, 75)\n",
      "(2, 69)\n",
      "(2, 16)\n",
      "(2, 47)\n"
     ]
    }
   ],
   "source": [
    "for i in func_generator(numbers):\n",
    "    print(i)\n",
    "    time.sleep(2)"
   ]
  },
  {
   "cell_type": "code",
   "execution_count": null,
   "id": "85c644c4",
   "metadata": {},
   "outputs": [],
   "source": []
  }
 ],
 "metadata": {
  "kernelspec": {
   "display_name": "Python 3 (ipykernel)",
   "language": "python",
   "name": "python3"
  },
  "language_info": {
   "codemirror_mode": {
    "name": "ipython",
    "version": 3
   },
   "file_extension": ".py",
   "mimetype": "text/x-python",
   "name": "python",
   "nbconvert_exporter": "python",
   "pygments_lexer": "ipython3",
   "version": "3.9.13"
  }
 },
 "nbformat": 4,
 "nbformat_minor": 5
}
